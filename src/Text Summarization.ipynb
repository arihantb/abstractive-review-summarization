{
 "cells": [
  {
   "cell_type": "markdown",
   "metadata": {
    "colab_type": "text",
    "id": "qFuL-RBgXqgU"
   },
   "source": [
    "# Abstractive Text Summarization of Product Reviews"
   ]
  },
  {
   "cell_type": "markdown",
   "metadata": {
    "colab_type": "text",
    "id": "F5dSoP8lGMZi"
   },
   "source": [
    "## Understanding the Problem Statement\n",
    "\n",
    "Customer reviews can often be long and descriptive. Analyzing these reviews manually, as you can imagine, is really time-consuming. This is where the brilliance of Machine Learning can be applied to generate a summary for long reviews.\n",
    "\n",
    "We will be working on [this](https://www.kaggle.com/grikomsn/amazon-cell-phones-reviews) dataset. Our objective here is to generate a summary for the Amazon Cell Phones reviews using the abstraction-based approach.\n",
    "\n",
    "Let's look at the implementation."
   ]
  },
  {
   "cell_type": "markdown",
   "metadata": {
    "colab_type": "text",
    "id": "JUValOzcHtEK"
   },
   "source": [
    "## Import the Libraries"
   ]
  },
  {
   "cell_type": "code",
   "execution_count": 1,
   "metadata": {
    "ExecuteTime": {
     "end_time": "2020-12-27T05:34:21.519286Z",
     "start_time": "2020-12-27T05:34:13.808342Z"
    },
    "_cell_guid": "b1076dfc-b9ad-4769-8c92-a6c4dae69d19",
    "_uuid": "8f2839f25d086af736a60e9eeb907d3b93b6e0e5",
    "colab": {},
    "colab_type": "code",
    "id": "_Jpu8qLEFxcY",
    "outputId": "95968e01-faac-4911-c802-9c008a4e62cf"
   },
   "outputs": [],
   "source": [
    "import numpy as np\n",
    "import pandas as pd\n",
    "import matplotlib.pyplot as plt\n",
    "import math\n",
    "import re\n",
    "import os\n",
    "import ssl\n",
    "import pickle\n",
    "import tensorflow as tf\n",
    "import ipywidgets as widgets\n",
    "\n",
    "from tqdm import tqdm\n",
    "from bs4 import BeautifulSoup\n",
    "from urllib import request\n",
    "from vaderSentiment.vaderSentiment import SentimentIntensityAnalyzer\n",
    "from rouge import Rouge\n",
    "from keras import backend as K\n",
    "from keras.models import load_model\n",
    "from keras.preprocessing.text import Tokenizer\n",
    "from keras.preprocessing.sequence import pad_sequences\n",
    "from nltk.corpus import stopwords\n",
    "from tensorflow.python.keras.layers import Layer\n",
    "from tensorflow.python.keras import backend as K\n",
    "from tensorflow.keras.layers import Input, LSTM, Embedding, Dense, Concatenate, TimeDistributed, Bidirectional\n",
    "from tensorflow.keras.models import Model\n",
    "from tensorflow.keras.callbacks import EarlyStopping\n",
    "from sklearn.model_selection import train_test_split\n",
    "\n",
    "import warnings\n",
    "warnings.filterwarnings(\"ignore\")"
   ]
  },
  {
   "cell_type": "code",
   "execution_count": 2,
   "metadata": {
    "ExecuteTime": {
     "end_time": "2020-12-27T05:34:21.535209Z",
     "start_time": "2020-12-27T05:34:21.521253Z"
    }
   },
   "outputs": [
    {
     "name": "stdout",
     "output_type": "stream",
     "text": [
      "TensorFlow Version: 2.3.1\n"
     ]
    }
   ],
   "source": [
    "print('TensorFlow Version: {}'.format(tf.__version__))"
   ]
  },
  {
   "cell_type": "code",
   "execution_count": 3,
   "metadata": {
    "ExecuteTime": {
     "end_time": "2020-12-27T05:34:25.589984Z",
     "start_time": "2020-12-27T05:34:21.537206Z"
    }
   },
   "outputs": [
    {
     "name": "stdout",
     "output_type": "stream",
     "text": [
      "Found GPU at: /device:GPU:0\n"
     ]
    }
   ],
   "source": [
    "device_name = tf.test.gpu_device_name()\n",
    "\n",
    "if device_name != '/device:GPU:0':\n",
    "    raise SystemError('GPU device not found')\n",
    "\n",
    "print('Found GPU at: {}'.format(device_name))"
   ]
  },
  {
   "cell_type": "markdown",
   "metadata": {
    "colab_type": "text",
    "id": "UVakjZ3oICgx"
   },
   "source": [
    "## Read the dataset\n",
    "\n",
    "This dataset consists of reviews of cell phones from Amazon. These reviews include product and user information, ratings, date, plain text review, and summary. This dataset focuses on both unlocked and locked carriers, and scoped on ten brands: ASUS, Apple, Google, HUAWEI, Motorola, Nokia, OnePlus, Samsung, Sony, and Xiaomi."
   ]
  },
  {
   "cell_type": "code",
   "execution_count": 41,
   "metadata": {
    "ExecuteTime": {
     "end_time": "2020-12-27T06:42:59.263818Z",
     "start_time": "2020-12-27T06:42:39.973612Z"
    },
    "colab": {},
    "colab_type": "code",
    "id": "wnK5o4Z1Fxcj"
   },
   "outputs": [],
   "source": [
    "data = pd.read_csv(\"datasets/cellphones_clean2.csv\")"
   ]
  },
  {
   "cell_type": "code",
   "execution_count": 42,
   "metadata": {
    "ExecuteTime": {
     "end_time": "2020-12-27T06:43:19.688434Z",
     "start_time": "2020-12-27T06:43:19.658600Z"
    }
   },
   "outputs": [
    {
     "data": {
      "text/html": [
       "<div>\n",
       "<style scoped>\n",
       "    .dataframe tbody tr th:only-of-type {\n",
       "        vertical-align: middle;\n",
       "    }\n",
       "\n",
       "    .dataframe tbody tr th {\n",
       "        vertical-align: top;\n",
       "    }\n",
       "\n",
       "    .dataframe thead th {\n",
       "        text-align: right;\n",
       "    }\n",
       "</style>\n",
       "<table border=\"1\" class=\"dataframe\">\n",
       "  <thead>\n",
       "    <tr style=\"text-align: right;\">\n",
       "      <th></th>\n",
       "      <th>summary</th>\n",
       "      <th>text</th>\n",
       "    </tr>\n",
       "  </thead>\n",
       "  <tbody>\n",
       "    <tr>\n",
       "      <th>0</th>\n",
       "      <td>I love it. I buy a new one every year</td>\n",
       "      <td>As always, it is a quality calendar full of ve...</td>\n",
       "    </tr>\n",
       "    <tr>\n",
       "      <th>1</th>\n",
       "      <td>I love all the space facts that this calendar has</td>\n",
       "      <td>I love all the space facts that this calendar ...</td>\n",
       "    </tr>\n",
       "    <tr>\n",
       "      <th>2</th>\n",
       "      <td>Nice wall calendar that i will enjoy and is al...</td>\n",
       "      <td>Very nice and delivered in a box which kept th...</td>\n",
       "    </tr>\n",
       "    <tr>\n",
       "      <th>3</th>\n",
       "      <td>It is beautifully done, filled with interestin...</td>\n",
       "      <td>I have been buying this, and the desk calendar...</td>\n",
       "    </tr>\n",
       "    <tr>\n",
       "      <th>4</th>\n",
       "      <td>All the extra cool facts and information about...</td>\n",
       "      <td>One of the coolest purchases I've ever made. I...</td>\n",
       "    </tr>\n",
       "  </tbody>\n",
       "</table>\n",
       "</div>"
      ],
      "text/plain": [
       "                                             summary  \\\n",
       "0              I love it. I buy a new one every year   \n",
       "1  I love all the space facts that this calendar has   \n",
       "2  Nice wall calendar that i will enjoy and is al...   \n",
       "3  It is beautifully done, filled with interestin...   \n",
       "4  All the extra cool facts and information about...   \n",
       "\n",
       "                                                text  \n",
       "0  As always, it is a quality calendar full of ve...  \n",
       "1  I love all the space facts that this calendar ...  \n",
       "2  Very nice and delivered in a box which kept th...  \n",
       "3  I have been buying this, and the desk calendar...  \n",
       "4  One of the coolest purchases I've ever made. I...  "
      ]
     },
     "execution_count": 42,
     "metadata": {},
     "output_type": "execute_result"
    }
   ],
   "source": [
    "data.head()"
   ]
  },
  {
   "cell_type": "markdown",
   "metadata": {
    "colab_type": "text",
    "id": "kGNQKvCaISIn"
   },
   "source": [
    "## Drop columns, duplicates and NA values"
   ]
  },
  {
   "cell_type": "code",
   "execution_count": 43,
   "metadata": {
    "ExecuteTime": {
     "end_time": "2020-12-27T06:43:53.363529Z",
     "start_time": "2020-12-27T06:43:53.349532Z"
    },
    "colab": {},
    "colab_type": "code",
    "id": "Cjul88oOFxcr"
   },
   "outputs": [],
   "source": [
    "# data.drop(columns=['reviewerID', 'asin', 'reviewerName', 'helpful',\n",
    "#                    'overall', 'unixReviewTime', 'reviewTime'], inplace=True)\n",
    "# data.dropna(axis=0, inplace=True)"
   ]
  },
  {
   "cell_type": "code",
   "execution_count": 44,
   "metadata": {
    "ExecuteTime": {
     "end_time": "2020-12-27T06:44:26.933106Z",
     "start_time": "2020-12-27T06:44:26.919055Z"
    }
   },
   "outputs": [],
   "source": [
    "# data.rename(columns={'reviewText': 'text'}, inplace=True)"
   ]
  },
  {
   "cell_type": "markdown",
   "metadata": {
    "colab_type": "text",
    "id": "qi0xD6BkIWAm"
   },
   "source": [
    "## Information about dataset\n",
    "\n",
    "Let us look at data-types and shape of the dataset"
   ]
  },
  {
   "cell_type": "code",
   "execution_count": 45,
   "metadata": {
    "ExecuteTime": {
     "end_time": "2020-12-27T06:45:00.375170Z",
     "start_time": "2020-12-27T06:45:00.360516Z"
    },
    "colab": {},
    "colab_type": "code",
    "id": "__fy-JxTFxc9",
    "outputId": "d42c6e36-bbc8-43c2-de0e-d3effe3e8c4c"
   },
   "outputs": [
    {
     "name": "stdout",
     "output_type": "stream",
     "text": [
      "<class 'pandas.core.frame.DataFrame'>\n",
      "RangeIndex: 2378257 entries, 0 to 2378256\n",
      "Data columns (total 2 columns):\n",
      " #   Column   Dtype \n",
      "---  ------   ----- \n",
      " 0   summary  object\n",
      " 1   text     object\n",
      "dtypes: object(2)\n",
      "memory usage: 36.3+ MB\n"
     ]
    }
   ],
   "source": [
    "data.info()"
   ]
  },
  {
   "cell_type": "code",
   "execution_count": 46,
   "metadata": {
    "ExecuteTime": {
     "end_time": "2020-12-27T06:45:41.702093Z",
     "start_time": "2020-12-27T06:45:33.585296Z"
    }
   },
   "outputs": [
    {
     "data": {
      "text/html": [
       "<div>\n",
       "<style scoped>\n",
       "    .dataframe tbody tr th:only-of-type {\n",
       "        vertical-align: middle;\n",
       "    }\n",
       "\n",
       "    .dataframe tbody tr th {\n",
       "        vertical-align: top;\n",
       "    }\n",
       "\n",
       "    .dataframe thead th {\n",
       "        text-align: right;\n",
       "    }\n",
       "</style>\n",
       "<table border=\"1\" class=\"dataframe\">\n",
       "  <thead>\n",
       "    <tr style=\"text-align: right;\">\n",
       "      <th></th>\n",
       "      <th>summary</th>\n",
       "      <th>text</th>\n",
       "    </tr>\n",
       "  </thead>\n",
       "  <tbody>\n",
       "    <tr>\n",
       "      <th>count</th>\n",
       "      <td>2378257</td>\n",
       "      <td>2378257</td>\n",
       "    </tr>\n",
       "    <tr>\n",
       "      <th>unique</th>\n",
       "      <td>2263577</td>\n",
       "      <td>2342131</td>\n",
       "    </tr>\n",
       "    <tr>\n",
       "      <th>top</th>\n",
       "      <td>You get what you pay for</td>\n",
       "      <td>ITS A VERY NICE PRODUCT... IT CAME AS I SPECTE...</td>\n",
       "    </tr>\n",
       "    <tr>\n",
       "      <th>freq</th>\n",
       "      <td>3969</td>\n",
       "      <td>39</td>\n",
       "    </tr>\n",
       "  </tbody>\n",
       "</table>\n",
       "</div>"
      ],
      "text/plain": [
       "                         summary  \\\n",
       "count                    2378257   \n",
       "unique                   2263577   \n",
       "top     You get what you pay for   \n",
       "freq                        3969   \n",
       "\n",
       "                                                     text  \n",
       "count                                             2378257  \n",
       "unique                                            2342131  \n",
       "top     ITS A VERY NICE PRODUCT... IT CAME AS I SPECTE...  \n",
       "freq                                                   39  "
      ]
     },
     "execution_count": 46,
     "metadata": {},
     "output_type": "execute_result"
    }
   ],
   "source": [
    "data.describe()"
   ]
  },
  {
   "cell_type": "markdown",
   "metadata": {
    "colab_type": "text",
    "id": "r0xLYACiFxdJ"
   },
   "source": [
    "## Preprocessing\n",
    "\n",
    "Performing basic preprocessing steps is very important before we get to the model building part. Using messy and uncleaned text data is a potentially disastrous move. So in this step, we will drop all the unwanted symbols, characters, etc. from the text that do not affect the objective of our problem.\n",
    "\n",
    "We will perform the below preprocessing tasks for our data:\n",
    "1. Convert everything to lowercase\n",
    "2. Remove HTML tags\n",
    "3. Contraction mapping\n",
    "4. Remove ('s)\n",
    "5. Remove any text inside the parenthesis ( )\n",
    "6. Eliminate punctuations and special characters\n",
    "7. Remove stopwords\n",
    "8. Remove short words\n",
    "\n",
    "Here is the dictionary that we will use for expanding the contractions:"
   ]
  },
  {
   "cell_type": "code",
   "execution_count": 47,
   "metadata": {
    "ExecuteTime": {
     "end_time": "2020-12-27T07:02:11.905110Z",
     "start_time": "2020-12-27T07:02:11.878892Z"
    },
    "colab": {},
    "colab_type": "code",
    "id": "0s6IY-x2FxdL"
   },
   "outputs": [],
   "source": [
    "contraction_mapping = {\"ain't\": \"is not\", \"aren't\": \"are not\", \"can't\": \"cannot\", \"'cause\": \"because\", \"could've\": \"could have\", \"couldn't\": \"could not\",\n",
    "                       \"didn't\": \"did not\",  \"doesn't\": \"does not\", \"don't\": \"do not\", \"hadn't\": \"had not\", \"hasn't\": \"has not\", \"haven't\": \"have not\",\n",
    "                       \"he'd\": \"he would\", \"he'll\": \"he will\", \"he's\": \"he is\", \"how'd\": \"how did\", \"how'd'y\": \"how do you\", \"how'll\": \"how will\", \"how's\": \"how is\",\n",
    "                       \"I'd\": \"I would\", \"I'd've\": \"I would have\", \"I'll\": \"I will\", \"I'll've\": \"I will have\", \"I'm\": \"I am\", \"I've\": \"I have\", \"i'd\": \"i would\",\n",
    "                       \"i'd've\": \"i would have\", \"i'll\": \"i will\",  \"i'll've\": \"i will have\", \"i'm\": \"i am\", \"i've\": \"i have\", \"isn't\": \"is not\", \"it'd\": \"it would\",\n",
    "                       \"it'd've\": \"it would have\", \"it'll\": \"it will\", \"it'll've\": \"it will have\", \"it's\": \"it is\", \"let's\": \"let us\", \"ma'am\": \"madam\",\n",
    "                       \"mayn't\": \"may not\", \"might've\": \"might have\", \"mightn't\": \"might not\", \"mightn't've\": \"might not have\", \"must've\": \"must have\",\n",
    "                       \"mustn't\": \"must not\", \"mustn't've\": \"must not have\", \"needn't\": \"need not\", \"needn't've\": \"need not have\", \"o'clock\": \"of the clock\",\n",
    "                       \"oughtn't\": \"ought not\", \"oughtn't've\": \"ought not have\", \"shan't\": \"shall not\", \"sha'n't\": \"shall not\", \"shan't've\": \"shall not have\",\n",
    "                       \"she'd\": \"she would\", \"she'd've\": \"she would have\", \"she'll\": \"she will\", \"she'll've\": \"she will have\", \"she's\": \"she is\",\n",
    "                       \"should've\": \"should have\", \"shouldn't\": \"should not\", \"shouldn't've\": \"should not have\", \"so've\": \"so have\", \"so's\": \"so as\",\n",
    "                       \"this's\": \"this is\", \"that'd\": \"that would\", \"that'd've\": \"that would have\", \"that's\": \"that is\", \"there'd\": \"there would\",\n",
    "                       \"there'd've\": \"there would have\", \"there's\": \"there is\", \"here's\": \"here is\", \"they'd\": \"they would\", \"they'd've\": \"they would have\",\n",
    "                       \"they'll\": \"they will\", \"they'll've\": \"they will have\", \"they're\": \"they are\", \"they've\": \"they have\", \"to've\": \"to have\",\n",
    "                       \"wasn't\": \"was not\", \"we'd\": \"we would\", \"we'd've\": \"we would have\", \"we'll\": \"we will\", \"we'll've\": \"we will have\", \"we're\": \"we are\",\n",
    "                       \"we've\": \"we have\", \"weren't\": \"were not\", \"what'll\": \"what will\", \"what'll've\": \"what will have\", \"what're\": \"what are\",\n",
    "                       \"what's\": \"what is\", \"what've\": \"what have\", \"when's\": \"when is\", \"when've\": \"when have\", \"where'd\": \"where did\", \"where's\": \"where is\",\n",
    "                       \"where've\": \"where have\", \"who'll\": \"who will\", \"who'll've\": \"who will have\", \"who's\": \"who is\", \"who've\": \"who have\",\n",
    "                       \"why's\": \"why is\", \"why've\": \"why have\", \"will've\": \"will have\", \"won't\": \"will not\", \"won't've\": \"will not have\",\n",
    "                       \"would've\": \"would have\", \"wouldn't\": \"would not\", \"wouldn't've\": \"would not have\", \"y'all\": \"you all\",\n",
    "                       \"y'all'd\": \"you all would\", \"y'all'd've\": \"you all would have\", \"y'all're\": \"you all are\", \"y'all've\": \"you all have\",\n",
    "                       \"you'd\": \"you would\", \"you'd've\": \"you would have\", \"you'll\": \"you will\", \"you'll've\": \"you will have\",\n",
    "                       \"you're\": \"you are\", \"you've\": \"you have\"}"
   ]
  },
  {
   "cell_type": "code",
   "execution_count": 48,
   "metadata": {
    "ExecuteTime": {
     "end_time": "2020-12-27T07:02:53.661709Z",
     "start_time": "2020-12-27T07:02:53.616388Z"
    },
    "colab": {},
    "colab_type": "code",
    "id": "XZr-u3OEFxdT"
   },
   "outputs": [],
   "source": [
    "stop_words = set(stopwords.words('english'))\n",
    "\n",
    "\n",
    "def text_cleaner(text, num):\n",
    "    newString = text.lower()\n",
    "    newString = BeautifulSoup(newString, 'lxml').text\n",
    "    newString = re.sub(r'\\([^)]*\\)', '', newString)\n",
    "    newString = re.sub('\"', '', newString)\n",
    "    newString = ' '.join(\n",
    "        [contraction_mapping[t] if t in contraction_mapping else t for t in newString.split(' ')])\n",
    "    newString = re.sub(r\"'s\\b\", '', newString)\n",
    "    newString = re.sub(\"[^a-zA-Z]\", ' ', newString)\n",
    "    newString = re.sub('[m]{2,}', 'mm', newString)\n",
    "\n",
    "    if(num == 0):\n",
    "        tokens = [w for w in newString.split() if not w in stop_words]\n",
    "    else:\n",
    "        tokens = newString.split()\n",
    "\n",
    "    long_words = []\n",
    "\n",
    "    for i in tokens:\n",
    "        if len(i) > 1:\n",
    "            long_words.append(i)\n",
    "\n",
    "    return (' '.join(long_words)).strip()"
   ]
  },
  {
   "cell_type": "code",
   "execution_count": 49,
   "metadata": {
    "ExecuteTime": {
     "end_time": "2020-12-27T07:13:53.739730Z",
     "start_time": "2020-12-27T07:03:36.751866Z"
    },
    "colab": {},
    "colab_type": "code",
    "id": "A2QAeCHWFxdY"
   },
   "outputs": [
    {
     "name": "stderr",
     "output_type": "stream",
     "text": [
      "100%|██████████████████████████████████████████████████████████████████████| 2378257/2378257 [10:10<00:00, 3897.46it/s]\n"
     ]
    }
   ],
   "source": [
    "cleaned_text = []\n",
    "\n",
    "for t in tqdm(data['text']):\n",
    "    cleaned_text.append(text_cleaner(t, 0))"
   ]
  },
  {
   "cell_type": "markdown",
   "metadata": {
    "colab_type": "text",
    "id": "snRZY8wjLao2"
   },
   "source": [
    "Let us look at the first five preprocessed reviews"
   ]
  },
  {
   "cell_type": "code",
   "execution_count": 50,
   "metadata": {
    "ExecuteTime": {
     "end_time": "2020-12-27T07:14:43.400366Z",
     "start_time": "2020-12-27T07:14:43.385857Z"
    },
    "colab": {},
    "colab_type": "code",
    "id": "NCAIkhWbFxdh",
    "outputId": "c2da1a36-4488-4e32-ef9e-fcfe496e374d"
   },
   "outputs": [
    {
     "name": "stdout",
     "output_type": "stream",
     "text": [
      "Cleaned Text #1\n",
      "always quality calendar full interesting space related photos information love buy new one every year\n",
      "\n",
      "Cleaned Text #2\n",
      "love space facts calendar one best space calendars found\n",
      "\n",
      "Cleaned Text #3\n",
      "nice delivered box kept calendar flat un creased new nice pictures detail\n",
      "\n",
      "Cleaned Text #4\n",
      "buying desk calendar well years beautifully done filled interesting facts easy use would recommend anyone\n",
      "\n",
      "Cleaned Text #5\n",
      "one coolest purchases ever made absolutely getting next year calendar well extra cool facts information everything space related make every day interesting even day space history tidbits squares moon phase indicators every day monthly sky guides viewing various planets interesting celestial bodies even coordinates telescopes learn something new every day sure calendar would absolutely reccomend\n",
      "\n"
     ]
    }
   ],
   "source": [
    "for i, c_t in enumerate(cleaned_text[:5]):\n",
    "    print('Cleaned Text #{}'.format(i + 1))\n",
    "    print(c_t)\n",
    "    print()"
   ]
  },
  {
   "cell_type": "code",
   "execution_count": 51,
   "metadata": {
    "ExecuteTime": {
     "end_time": "2020-12-27T07:24:24.750114Z",
     "start_time": "2020-12-27T07:15:31.875622Z"
    },
    "colab": {},
    "colab_type": "code",
    "id": "GsRXocxoFxd-"
   },
   "outputs": [
    {
     "name": "stderr",
     "output_type": "stream",
     "text": [
      "100%|██████████████████████████████████████████████████████████████████████| 2378257/2378257 [08:47<00:00, 4508.00it/s]\n"
     ]
    }
   ],
   "source": [
    "cleaned_summary = []\n",
    "\n",
    "for t in tqdm(data['summary']):\n",
    "    cleaned_summary.append(text_cleaner(t, 1))"
   ]
  },
  {
   "cell_type": "markdown",
   "metadata": {
    "colab_type": "text",
    "id": "oZeD0gs6Lnb-"
   },
   "source": [
    "Let us look at the first 10 preprocessed summaries"
   ]
  },
  {
   "cell_type": "code",
   "execution_count": 52,
   "metadata": {
    "ExecuteTime": {
     "end_time": "2020-12-27T07:24:24.765291Z",
     "start_time": "2020-12-27T07:24:24.751111Z"
    },
    "colab": {},
    "colab_type": "code",
    "id": "jQJdZcAzFxee",
    "outputId": "a1fbe683-c03f-4afb-addf-e075021c121b"
   },
   "outputs": [
    {
     "name": "stdout",
     "output_type": "stream",
     "text": [
      "Cleaned Summary #1\n",
      "love it buy new one every year\n",
      "\n",
      "Cleaned Summary #2\n",
      "love all the space facts that this calendar has\n",
      "\n",
      "Cleaned Summary #3\n",
      "nice wall calendar that will enjoy and is also good for work\n",
      "\n",
      "Cleaned Summary #4\n",
      "it is beautifully done filled with interesting facts and easy to\n",
      "\n",
      "Cleaned Summary #5\n",
      "all the extra cool facts and information about everything space related make every day\n",
      "\n"
     ]
    }
   ],
   "source": [
    "for i, c_s in enumerate(cleaned_summary[:5]):\n",
    "    print('Cleaned Summary #{}'.format(i + 1))\n",
    "    print(c_s)\n",
    "    print()"
   ]
  },
  {
   "cell_type": "code",
   "execution_count": 53,
   "metadata": {
    "ExecuteTime": {
     "end_time": "2020-12-27T07:26:07.377696Z",
     "start_time": "2020-12-27T07:26:06.988284Z"
    },
    "colab": {},
    "colab_type": "code",
    "id": "L1zLpnqsFxey"
   },
   "outputs": [],
   "source": [
    "data['cleaned_text'] = cleaned_text\n",
    "data['cleaned_summary'] = cleaned_summary"
   ]
  },
  {
   "cell_type": "markdown",
   "metadata": {
    "colab_type": "text",
    "id": "KT_D2cLiLy77"
   },
   "source": [
    "## Drop empty rows"
   ]
  },
  {
   "cell_type": "code",
   "execution_count": 54,
   "metadata": {
    "ExecuteTime": {
     "end_time": "2020-12-27T07:26:57.971719Z",
     "start_time": "2020-12-27T07:26:57.957175Z"
    },
    "colab": {},
    "colab_type": "code",
    "id": "sYK390unFxfA"
   },
   "outputs": [],
   "source": [
    "# data.replace('', np.nan, inplace=True)\n",
    "# data.dropna(axis=0, inplace=True)"
   ]
  },
  {
   "cell_type": "markdown",
   "metadata": {
    "colab_type": "text",
    "id": "Vm8Fk2TCL7Sp"
   },
   "source": [
    "## Understanding the distribution of the sequences\n",
    "\n",
    "Here, we will analyze the length of the reviews and the summary to get an overall idea about the distribution of length of the text. This will help us fix the maximum length of the sequence:"
   ]
  },
  {
   "cell_type": "code",
   "execution_count": 55,
   "metadata": {
    "ExecuteTime": {
     "end_time": "2020-12-27T07:27:56.400098Z",
     "start_time": "2020-12-27T07:27:48.492034Z"
    },
    "colab": {},
    "colab_type": "code",
    "id": "MdF76AHHFxgw",
    "outputId": "e3bbe165-4235-482f-bfd4-36a3f1d95290"
   },
   "outputs": [
    {
     "data": {
      "image/png": "[encoded data removed]",
      "text/plain": [
       "<Figure size 432x288 with 2 Axes>"
      ]
     },
     "metadata": {
      "needs_background": "light"
     },
     "output_type": "display_data"
    }
   ],
   "source": [
    "text_word_count = []\n",
    "summary_word_count = []\n",
    "\n",
    "for i in data['cleaned_text']:\n",
    "    text_word_count.append(len(i.split()))\n",
    "\n",
    "for i in data['cleaned_summary']:\n",
    "    summary_word_count.append(len(i.split()))\n",
    "\n",
    "length_df = pd.DataFrame(\n",
    "    {'text': text_word_count, 'summary': summary_word_count})\n",
    "\n",
    "length_df.hist(bins=30)\n",
    "plt.show()"
   ]
  },
  {
   "cell_type": "markdown",
   "metadata": {
    "colab_type": "text",
    "id": "QwdSGIhGMEbz"
   },
   "source": [
    "We can fix the maximum length of the summary to 12 since that seems to be the majority summary length.\n",
    "\n",
    "Let us understand the proportion of the length of summaries below 12."
   ]
  },
  {
   "cell_type": "code",
   "execution_count": 56,
   "metadata": {
    "ExecuteTime": {
     "end_time": "2020-12-27T07:28:49.257107Z",
     "start_time": "2020-12-27T07:28:47.415403Z"
    },
    "colab": {},
    "colab_type": "code",
    "id": "7JRjwdIOFxg3",
    "outputId": "f968be82-c539-471d-ce23-16f18b059ea0"
   },
   "outputs": [
    {
     "name": "stdout",
     "output_type": "stream",
     "text": [
      "99.12%\n"
     ]
    }
   ],
   "source": [
    "cnt = 0\n",
    "\n",
    "for i in data['cleaned_summary']:\n",
    "    if(len(i.split()) <= 20):\n",
    "        cnt = cnt+1\n",
    "\n",
    "print('{:.2%}'.format(cnt / len(data['cleaned_summary'])))"
   ]
  },
  {
   "cell_type": "markdown",
   "metadata": {
    "colab_type": "text",
    "id": "yYB4Ga9KMjEu"
   },
   "source": [
    "We observe that 96% of the summaries have length below 12. So, we can fix maximum length of summary to 12.\n",
    "\n",
    "Let us fix the maximum length of review to 30."
   ]
  },
  {
   "cell_type": "code",
   "execution_count": 57,
   "metadata": {
    "ExecuteTime": {
     "end_time": "2020-12-27T07:29:39.897828Z",
     "start_time": "2020-12-27T07:29:39.882869Z"
    },
    "colab": {},
    "colab_type": "code",
    "id": "ZKD5VOWqFxhC"
   },
   "outputs": [],
   "source": [
    "max_text_len = 50\n",
    "max_summary_len = 20"
   ]
  },
  {
   "cell_type": "markdown",
   "metadata": {
    "colab_type": "text",
    "id": "E6d48E-8M4VO"
   },
   "source": [
    "Let us select the reviews and summaries whose length falls below or equal to **max_text_len** and **max_summary_len**"
   ]
  },
  {
   "cell_type": "code",
   "execution_count": 58,
   "metadata": {
    "ExecuteTime": {
     "end_time": "2020-12-27T07:30:41.295536Z",
     "start_time": "2020-12-27T07:30:30.132979Z"
    },
    "colab": {},
    "colab_type": "code",
    "id": "yY0tEJP0FxhI"
   },
   "outputs": [
    {
     "name": "stderr",
     "output_type": "stream",
     "text": [
      "100%|████████████████████████████████████████████████████████████████████| 2378257/2378257 [00:08<00:00, 274156.25it/s]\n"
     ]
    }
   ],
   "source": [
    "cleaned_text = np.array(data['cleaned_text'])\n",
    "cleaned_summary = np.array(data['cleaned_summary'])\n",
    "\n",
    "short_text = []\n",
    "short_summary = []\n",
    "\n",
    "for i in tqdm(range(len(cleaned_text))):\n",
    "    if(len(cleaned_summary[i].split()) <= max_summary_len and len(cleaned_text[i].split()) <= max_text_len):\n",
    "        short_text.append(cleaned_text[i])\n",
    "        short_summary.append(cleaned_summary[i])\n",
    "\n",
    "df = pd.DataFrame({'text': short_text, 'summary': short_summary})"
   ]
  },
  {
   "cell_type": "markdown",
   "metadata": {
    "colab_type": "text",
    "id": "tR1uh8xSNUma"
   },
   "source": [
    "We have to add the **START** and **END** special tokens at the beginning and end of the summary. Here, I have chosen **sostok** and **eostok** as START and END tokens\n",
    "\n",
    "**Note:** We have to choose the special tokens which never appear in the summary."
   ]
  },
  {
   "cell_type": "code",
   "execution_count": 59,
   "metadata": {
    "ExecuteTime": {
     "end_time": "2020-12-27T07:31:20.449403Z",
     "start_time": "2020-12-27T07:31:19.724838Z"
    },
    "colab": {},
    "colab_type": "code",
    "id": "EwLUH78CFxhg"
   },
   "outputs": [],
   "source": [
    "df['summary'] = df['summary'].apply(lambda x: 'sostok ' + x + ' eostok')"
   ]
  },
  {
   "cell_type": "markdown",
   "metadata": {
    "colab_type": "text",
    "id": "1GlcX4RFOh13"
   },
   "source": [
    "We are getting closer to the model building part. Before that, we need to split our dataset into a training and validation set. We’ll use 90% of the dataset as the training data and evaluate the performance on the remaining 10% (holdout set):"
   ]
  },
  {
   "cell_type": "code",
   "execution_count": 78,
   "metadata": {
    "ExecuteTime": {
     "end_time": "2020-12-27T07:53:10.847328Z",
     "start_time": "2020-12-27T07:53:10.812417Z"
    },
    "colab": {},
    "colab_type": "code",
    "id": "RakakKHcFxhl"
   },
   "outputs": [],
   "source": [
    "x_tr, x_val, y_tr, y_val = train_test_split(np.array(df['text'][:100000]), np.array(\n",
    "    df['summary'][:100000]), test_size=0.1, random_state=0, shuffle=True)"
   ]
  },
  {
   "cell_type": "markdown",
   "metadata": {
    "colab_type": "text",
    "id": "Vq1mqyOHOtIl"
   },
   "source": [
    "## Preparing the Tokenizer\n",
    "\n",
    "A tokenizer builds the vocabulary and converts a word sequence to an integer sequence. Let's build the tokenizers for text and summary:\n",
    "\n",
    "### Text Tokenizer"
   ]
  },
  {
   "cell_type": "code",
   "execution_count": 79,
   "metadata": {
    "ExecuteTime": {
     "end_time": "2020-12-27T07:53:31.562902Z",
     "start_time": "2020-12-27T07:53:29.384738Z"
    },
    "colab": {},
    "colab_type": "code",
    "id": "oRHTgX6hFxhq"
   },
   "outputs": [],
   "source": [
    "x_tokenizer = Tokenizer()\n",
    "x_tokenizer.fit_on_texts(list(x_tr))"
   ]
  },
  {
   "cell_type": "markdown",
   "metadata": {
    "colab_type": "text",
    "id": "RzvLwYL_PDcx"
   },
   "source": [
    "### Rarewords and its Coverage\n",
    "\n",
    "Let us look at the proportion rare words and its total coverage in the entire text.\n",
    "\n",
    "Here, I am defining the threshold to be 4 which means word whose count is below 4 is considered as a rare word."
   ]
  },
  {
   "cell_type": "code",
   "execution_count": 80,
   "metadata": {
    "ExecuteTime": {
     "end_time": "2020-12-27T07:53:31.594816Z",
     "start_time": "2020-12-27T07:53:31.563899Z"
    },
    "colab": {},
    "colab_type": "code",
    "id": "y8KronV2Fxhx",
    "outputId": "d2eb2f27-fbbc-4e61-9556-3c3ff5e4327b"
   },
   "outputs": [
    {
     "name": "stdout",
     "output_type": "stream",
     "text": [
      "% of rare words in vocabulary: 64.02%\n",
      "Total Coverage of rare words: 1.47%\n"
     ]
    }
   ],
   "source": [
    "thresh = 4\n",
    "cnt = 0\n",
    "tot_cnt = 0\n",
    "freq = 0\n",
    "tot_freq = 0\n",
    "\n",
    "for key, value in x_tokenizer.word_counts.items():\n",
    "    tot_cnt = tot_cnt + 1\n",
    "    tot_freq = tot_freq + value\n",
    "\n",
    "    if(value < thresh):\n",
    "        cnt = cnt + 1\n",
    "        freq = freq + value\n",
    "\n",
    "print('% of rare words in vocabulary: {:.2%}'.format(cnt / tot_cnt))\n",
    "print('Total Coverage of rare words: {:.2%}'.format(freq / tot_freq))"
   ]
  },
  {
   "cell_type": "markdown",
   "metadata": {
    "colab_type": "text",
    "id": "So-J-5kzQIeO"
   },
   "source": [
    "* **tot_cnt** gives the size of vocabulary (which means every unique words in the text)\n",
    "* **cnt** gives the no. of rare words whose count falls below threshold\n",
    "* **tot_cnt - cnt** gives the top most common words \n",
    "\n",
    "Let us define the tokenizer with top most common words for reviews."
   ]
  },
  {
   "cell_type": "code",
   "execution_count": 81,
   "metadata": {
    "ExecuteTime": {
     "end_time": "2020-12-27T07:53:35.999028Z",
     "start_time": "2020-12-27T07:53:31.596777Z"
    },
    "colab": {},
    "colab_type": "code",
    "id": "J2giEsF3Fxh3"
   },
   "outputs": [],
   "source": [
    "x_tokenizer = Tokenizer(num_words=tot_cnt-cnt)\n",
    "x_tokenizer.fit_on_texts(list(x_tr))\n",
    "\n",
    "x_tr_seq = x_tokenizer.texts_to_sequences(x_tr)\n",
    "x_val_seq = x_tokenizer.texts_to_sequences(x_val)\n",
    "\n",
    "x_tr = pad_sequences(x_tr_seq,  maxlen=max_text_len, padding='post')\n",
    "x_val = pad_sequences(x_val_seq, maxlen=max_text_len, padding='post')\n",
    "\n",
    "x_voc = x_tokenizer.num_words + 1"
   ]
  },
  {
   "cell_type": "code",
   "execution_count": 82,
   "metadata": {
    "ExecuteTime": {
     "end_time": "2020-12-27T07:53:36.014991Z",
     "start_time": "2020-12-27T07:53:36.001992Z"
    },
    "colab": {},
    "colab_type": "code",
    "id": "DCbGMsm4FxiA",
    "outputId": "2d9165f0-e542-4114-91f3-e070d483fce9"
   },
   "outputs": [
    {
     "name": "stdout",
     "output_type": "stream",
     "text": [
      "Size of the vocabulary: 11991\n"
     ]
    }
   ],
   "source": [
    "print('Size of the vocabulary: {}'.format(x_voc))"
   ]
  },
  {
   "cell_type": "code",
   "execution_count": 83,
   "metadata": {
    "ExecuteTime": {
     "end_time": "2020-12-27T07:53:36.046906Z",
     "start_time": "2020-12-27T07:53:36.016982Z"
    }
   },
   "outputs": [],
   "source": [
    "with open('x_tokenizer', 'wb') as f:\n",
    "    pickle.dump(x_tokenizer, f)"
   ]
  },
  {
   "cell_type": "markdown",
   "metadata": {
    "colab_type": "text",
    "id": "uQfKP3sqRxi9"
   },
   "source": [
    "### Summary Tokenizer"
   ]
  },
  {
   "cell_type": "code",
   "execution_count": 84,
   "metadata": {
    "ExecuteTime": {
     "end_time": "2020-12-27T07:53:37.313513Z",
     "start_time": "2020-12-27T07:53:36.047901Z"
    },
    "colab": {},
    "colab_type": "code",
    "id": "eRHqyBkBFxiJ"
   },
   "outputs": [],
   "source": [
    "y_tokenizer = Tokenizer()\n",
    "y_tokenizer.fit_on_texts(list(y_tr))"
   ]
  },
  {
   "cell_type": "markdown",
   "metadata": {
    "colab_type": "text",
    "id": "KInA6O6ZSkJz"
   },
   "source": [
    "### Rarewords and its Coverage\n",
    "\n",
    "Let us look at the proportion rare words and its total coverage in the entire summary\n",
    "\n",
    "Here, I am defining the threshold to be 6 which means word whose count is below 6 is considered as a rare word."
   ]
  },
  {
   "cell_type": "code",
   "execution_count": 88,
   "metadata": {
    "ExecuteTime": {
     "end_time": "2020-12-27T07:55:18.226769Z",
     "start_time": "2020-12-27T07:55:18.211778Z"
    },
    "colab": {},
    "colab_type": "code",
    "id": "yzE5OiRLFxiM",
    "outputId": "7f7a4f89-b088-4847-8172-09e5a2383d0e"
   },
   "outputs": [
    {
     "name": "stdout",
     "output_type": "stream",
     "text": [
      "% of rare words in vocabulary: 73.13%\n",
      "Total Coverage of rare words: 2.08%\n"
     ]
    }
   ],
   "source": [
    "thresh = 6\n",
    "cnt = 0\n",
    "tot_cnt = 0\n",
    "freq = 0\n",
    "tot_freq = 0\n",
    "\n",
    "for key, value in y_tokenizer.word_counts.items():\n",
    "    tot_cnt = tot_cnt + 1\n",
    "    tot_freq = tot_freq + value\n",
    "    if(value < thresh):\n",
    "        cnt = cnt + 1\n",
    "        freq = freq + value\n",
    "\n",
    "print('% of rare words in vocabulary: {:.2%}'.format(cnt / tot_cnt))\n",
    "print('Total Coverage of rare words: {:.2%}'.format(freq / tot_freq))"
   ]
  },
  {
   "cell_type": "markdown",
   "metadata": {
    "colab_type": "text",
    "id": "0PBhzKuRSw_9"
   },
   "source": [
    "Let us define the tokenizer with top most common words for summary."
   ]
  },
  {
   "cell_type": "code",
   "execution_count": 86,
   "metadata": {
    "ExecuteTime": {
     "end_time": "2020-12-27T07:53:40.205773Z",
     "start_time": "2020-12-27T07:53:37.345396Z"
    },
    "colab": {},
    "colab_type": "code",
    "id": "-fswLvIgFxiR"
   },
   "outputs": [],
   "source": [
    "y_tokenizer = Tokenizer(num_words=tot_cnt-cnt)\n",
    "y_tokenizer.fit_on_texts(list(y_tr))\n",
    "\n",
    "y_tr_seq = y_tokenizer.texts_to_sequences(y_tr)\n",
    "y_val_seq = y_tokenizer.texts_to_sequences(y_val)\n",
    "\n",
    "y_tr = pad_sequences(y_tr_seq, maxlen=max_summary_len, padding='post')\n",
    "y_val = pad_sequences(y_val_seq, maxlen=max_summary_len, padding='post')\n",
    "\n",
    "y_voc = y_tokenizer.num_words + 1"
   ]
  },
  {
   "cell_type": "markdown",
   "metadata": {
    "colab_type": "text",
    "id": "qqwDUT5oTFmn"
   },
   "source": [
    "Let us check whether word count of start token is equal to length of the training data"
   ]
  },
  {
   "cell_type": "code",
   "execution_count": 87,
   "metadata": {
    "ExecuteTime": {
     "end_time": "2020-12-27T07:53:40.221734Z",
     "start_time": "2020-12-27T07:53:40.207766Z"
    },
    "colab": {},
    "colab_type": "code",
    "id": "pR8IX9FRFxiY",
    "outputId": "b116cdbd-42c4-4ede-9f6d-46284115393e"
   },
   "outputs": [
    {
     "data": {
      "text/plain": [
       "(90000, 90000)"
      ]
     },
     "execution_count": 87,
     "metadata": {},
     "output_type": "execute_result"
    }
   ],
   "source": [
    "y_tokenizer.word_counts['sostok'], len(y_tr)"
   ]
  },
  {
   "cell_type": "code",
   "execution_count": 89,
   "metadata": {
    "ExecuteTime": {
     "end_time": "2020-12-27T07:55:29.212299Z",
     "start_time": "2020-12-27T07:55:29.197308Z"
    }
   },
   "outputs": [],
   "source": [
    "with open('y_tokenizer', 'wb') as f:\n",
    "    pickle.dump(y_tokenizer, f)"
   ]
  },
  {
   "cell_type": "markdown",
   "metadata": {
    "colab_type": "text",
    "id": "LVFhFVguTTtw"
   },
   "source": [
    "Here, I am deleting the rows that contain only **START** and **END** tokens"
   ]
  },
  {
   "cell_type": "code",
   "execution_count": 90,
   "metadata": {
    "ExecuteTime": {
     "end_time": "2020-12-27T07:55:29.909862Z",
     "start_time": "2020-12-27T07:55:29.213266Z"
    },
    "colab": {},
    "colab_type": "code",
    "id": "kZ-vW82sFxih"
   },
   "outputs": [],
   "source": [
    "ind = []\n",
    "\n",
    "for i in range(len(y_tr)):\n",
    "    cnt = 0\n",
    "\n",
    "    for j in y_tr[i]:\n",
    "        if j != 0:\n",
    "            cnt = cnt+1\n",
    "\n",
    "    if(cnt == 2):\n",
    "        ind.append(i)\n",
    "\n",
    "y_tr = np.delete(y_tr, ind, axis=0)\n",
    "x_tr = np.delete(x_tr, ind, axis=0)"
   ]
  },
  {
   "cell_type": "code",
   "execution_count": 91,
   "metadata": {
    "ExecuteTime": {
     "end_time": "2020-12-27T07:55:51.864463Z",
     "start_time": "2020-12-27T07:55:51.755338Z"
    },
    "colab": {},
    "colab_type": "code",
    "id": "cx5NISuMFxik"
   },
   "outputs": [],
   "source": [
    "ind = []\n",
    "\n",
    "for i in range(len(y_val)):\n",
    "    cnt = 0\n",
    "\n",
    "    for j in y_val[i]:\n",
    "        if j != 0:\n",
    "            cnt = cnt+1\n",
    "\n",
    "    if(cnt == 2):\n",
    "        ind.append(i)\n",
    "\n",
    "y_val = np.delete(y_val, ind, axis=0)\n",
    "x_val = np.delete(x_val, ind, axis=0)"
   ]
  },
  {
   "cell_type": "markdown",
   "metadata": {
    "colab_type": "text",
    "id": "wOtlDcthFxip"
   },
   "source": [
    "## Model building\n",
    "\n",
    "**Return Sequences = True**: When the return sequences parameter is set to True, LSTM produces the hidden state and cell state for every timestep.\n",
    "\n",
    "**Return State = True**: When return state = True, LSTM produces the hidden state and cell state of the last timestep only.\n",
    "\n",
    "**Initial State**: This is used to initialize the internal states of the LSTM for the first timestep.\n",
    "\n",
    "**Stacked LSTM**: Stacked LSTM has multiple layers of LSTM stacked on top of each other. \n",
    "This leads to a better representation of the sequence. I encourage you to experiment with the multiple layers of the LSTM stacked on top of each other (it's a great way to learn this).\n",
    "\n",
    "Let's first build our AttentionLayer class:"
   ]
  },
  {
   "cell_type": "code",
   "execution_count": 92,
   "metadata": {
    "ExecuteTime": {
     "end_time": "2020-12-27T07:55:51.895386Z",
     "start_time": "2020-12-27T07:55:51.866463Z"
    }
   },
   "outputs": [],
   "source": [
    "class AttentionLayer(Layer):\n",
    "    def __init__(self, **kwargs):\n",
    "        super(AttentionLayer, self).__init__(**kwargs)\n",
    "\n",
    "    def build(self, input_shape):\n",
    "        assert isinstance(input_shape, list)\n",
    "\n",
    "        self.W_a = self.add_weight(name='W_a',\n",
    "                                   shape=tf.TensorShape(\n",
    "                                       (input_shape[0][2], input_shape[0][2])),\n",
    "                                   initializer='uniform',\n",
    "                                   trainable=True)\n",
    "        self.U_a = self.add_weight(name='U_a',\n",
    "                                   shape=tf.TensorShape(\n",
    "                                       (input_shape[1][2], input_shape[0][2])),\n",
    "                                   initializer='uniform',\n",
    "                                   trainable=True)\n",
    "        self.V_a = self.add_weight(name='V_a',\n",
    "                                   shape=tf.TensorShape(\n",
    "                                       (input_shape[0][2], 1)),\n",
    "                                   initializer='uniform',\n",
    "                                   trainable=True)\n",
    "\n",
    "        super(AttentionLayer, self).build(input_shape)\n",
    "\n",
    "    def call(self, inputs, verbose=False):\n",
    "        assert type(inputs) == list\n",
    "        encoder_out_seq, decoder_out_seq = inputs\n",
    "\n",
    "        if verbose:\n",
    "            print('encoder_out_seq>', encoder_out_seq.shape)\n",
    "            print('decoder_out_seq>', decoder_out_seq.shape)\n",
    "\n",
    "        def energy_step(inputs, states):\n",
    "            assert_msg = \"States must be an iterable. Got {} of type {}\".format(\n",
    "                states, type(states))\n",
    "            assert isinstance(states, list) or isinstance(\n",
    "                states, tuple), assert_msg\n",
    "\n",
    "            en_seq_len, en_hidden = encoder_out_seq.shape[1], encoder_out_seq.shape[2]\n",
    "            de_hidden = inputs.shape[-1]\n",
    "\n",
    "            W_a_dot_s = K.dot(encoder_out_seq, self.W_a)\n",
    "\n",
    "            U_a_dot_h = K.expand_dims(\n",
    "                K.dot(inputs, self.U_a), 1)\n",
    "            if verbose:\n",
    "                print('Ua.h>', U_a_dot_h.shape)\n",
    "\n",
    "            Ws_plus_Uh = K.tanh(W_a_dot_s + U_a_dot_h)\n",
    "            if verbose:\n",
    "                print('Ws+Uh>', Ws_plus_Uh.shape)\n",
    "\n",
    "            e_i = K.squeeze(K.dot(Ws_plus_Uh, self.V_a), axis=-1)\n",
    "            e_i = K.softmax(e_i)\n",
    "\n",
    "            if verbose:\n",
    "                print('ei>', e_i.shape)\n",
    "\n",
    "            return e_i, [e_i]\n",
    "\n",
    "        def context_step(inputs, states):\n",
    "            assert_msg = \"States must be an iterable. Got {} of type {}\".format(\n",
    "                states, type(states))\n",
    "            assert isinstance(states, list) or isinstance(\n",
    "                states, tuple), assert_msg\n",
    "\n",
    "            c_i = K.sum(encoder_out_seq * K.expand_dims(inputs, -1), axis=1)\n",
    "\n",
    "            if verbose:\n",
    "                print('ci>', c_i.shape)\n",
    "            return c_i, [c_i]\n",
    "\n",
    "        fake_state_c = K.sum(encoder_out_seq, axis=1)\n",
    "        fake_state_e = K.sum(encoder_out_seq, axis=2)\n",
    "\n",
    "        last_out, e_outputs, _ = K.rnn(\n",
    "            energy_step, decoder_out_seq, [fake_state_e],\n",
    "        )\n",
    "\n",
    "        last_out, c_outputs, _ = K.rnn(\n",
    "            context_step, e_outputs, [fake_state_c],\n",
    "        )\n",
    "\n",
    "        return c_outputs, e_outputs\n",
    "\n",
    "    def compute_output_shape(self, input_shape):\n",
    "        return [\n",
    "            tf.TensorShape(\n",
    "                (input_shape[1][0], input_shape[1][1], input_shape[1][2])),\n",
    "            tf.TensorShape(\n",
    "                (input_shape[1][0], input_shape[1][1], input_shape[0][1]))\n",
    "        ]"
   ]
  },
  {
   "cell_type": "markdown",
   "metadata": {},
   "source": [
    "Here, we are building a 3 stacked LSTM for the encoder:"
   ]
  },
  {
   "cell_type": "code",
   "execution_count": 93,
   "metadata": {
    "ExecuteTime": {
     "end_time": "2020-12-27T07:56:16.305609Z",
     "start_time": "2020-12-27T07:56:13.585686Z"
    },
    "colab": {},
    "colab_type": "code",
    "id": "zXef38nBFxir",
    "outputId": "7ae99521-46f8-4c6f-9cba-4979deffeee8"
   },
   "outputs": [
    {
     "name": "stdout",
     "output_type": "stream",
     "text": [
      "WARNING:tensorflow:Layer lstm will not use cuDNN kernel since it doesn't meet the cuDNN kernel criteria. It will use generic GPU kernel as fallback when running on GPU\n",
      "WARNING:tensorflow:Layer lstm will not use cuDNN kernel since it doesn't meet the cuDNN kernel criteria. It will use generic GPU kernel as fallback when running on GPU\n",
      "WARNING:tensorflow:Layer lstm will not use cuDNN kernel since it doesn't meet the cuDNN kernel criteria. It will use generic GPU kernel as fallback when running on GPU\n",
      "WARNING:tensorflow:Layer lstm_1 will not use cuDNN kernel since it doesn't meet the cuDNN kernel criteria. It will use generic GPU kernel as fallback when running on GPU\n",
      "WARNING:tensorflow:Layer lstm_1 will not use cuDNN kernel since it doesn't meet the cuDNN kernel criteria. It will use generic GPU kernel as fallback when running on GPU\n",
      "WARNING:tensorflow:Layer lstm_1 will not use cuDNN kernel since it doesn't meet the cuDNN kernel criteria. It will use generic GPU kernel as fallback when running on GPU\n",
      "WARNING:tensorflow:Layer lstm_2 will not use cuDNN kernel since it doesn't meet the cuDNN kernel criteria. It will use generic GPU kernel as fallback when running on GPU\n",
      "WARNING:tensorflow:Layer lstm_2 will not use cuDNN kernel since it doesn't meet the cuDNN kernel criteria. It will use generic GPU kernel as fallback when running on GPU\n",
      "WARNING:tensorflow:Layer lstm_2 will not use cuDNN kernel since it doesn't meet the cuDNN kernel criteria. It will use generic GPU kernel as fallback when running on GPU\n",
      "WARNING:tensorflow:Layer lstm_3 will not use cuDNN kernel since it doesn't meet the cuDNN kernel criteria. It will use generic GPU kernel as fallback when running on GPU\n",
      "Model: \"functional_1\"\n",
      "__________________________________________________________________________________________________\n",
      "Layer (type)                    Output Shape         Param #     Connected to                     \n",
      "==================================================================================================\n",
      "input_1 (InputLayer)            [(None, 50)]         0                                            \n",
      "__________________________________________________________________________________________________\n",
      "embedding (Embedding)           (None, 50, 100)      1199100     input_1[0][0]                    \n",
      "__________________________________________________________________________________________________\n",
      "bidirectional (Bidirectional)   [(None, 50, 600), (N 962400      embedding[0][0]                  \n",
      "__________________________________________________________________________________________________\n",
      "bidirectional_1 (Bidirectional) [(None, 50, 600), (N 2162400     bidirectional[0][0]              \n",
      "__________________________________________________________________________________________________\n",
      "input_2 (InputLayer)            [(None, None)]       0                                            \n",
      "__________________________________________________________________________________________________\n",
      "bidirectional_2 (Bidirectional) [(None, 50, 600), (N 2162400     bidirectional_1[0][0]            \n",
      "__________________________________________________________________________________________________\n",
      "embedding_1 (Embedding)         (None, None, 100)    403000      input_2[0][0]                    \n",
      "__________________________________________________________________________________________________\n",
      "concatenate (Concatenate)       (None, 600)          0           bidirectional_2[0][1]            \n",
      "                                                                 bidirectional_2[0][3]            \n",
      "__________________________________________________________________________________________________\n",
      "concatenate_1 (Concatenate)     (None, 600)          0           bidirectional_2[0][2]            \n",
      "                                                                 bidirectional_2[0][4]            \n",
      "__________________________________________________________________________________________________\n",
      "lstm_3 (LSTM)                   [(None, None, 600),  1682400     embedding_1[0][0]                \n",
      "                                                                 concatenate[0][0]                \n",
      "                                                                 concatenate_1[0][0]              \n",
      "__________________________________________________________________________________________________\n",
      "attention_layer (AttentionLayer ((None, None, 600),  720600      bidirectional_2[0][0]            \n",
      "                                                                 lstm_3[0][0]                     \n",
      "__________________________________________________________________________________________________\n",
      "concat_layer (Concatenate)      (None, None, 1200)   0           lstm_3[0][0]                     \n",
      "                                                                 attention_layer[0][0]            \n",
      "__________________________________________________________________________________________________\n",
      "time_distributed (TimeDistribut (None, None, 4030)   4840030     concat_layer[0][0]               \n",
      "==================================================================================================\n",
      "Total params: 14,132,330\n",
      "Trainable params: 14,132,330\n",
      "Non-trainable params: 0\n",
      "__________________________________________________________________________________________________\n"
     ]
    }
   ],
   "source": [
    "K.clear_session()\n",
    "\n",
    "latent_dim = 300\n",
    "embedding_dim = 100\n",
    "\n",
    "encoder_inputs = Input(shape=(max_text_len,))\n",
    "\n",
    "enc_emb = Embedding(x_voc, embedding_dim, trainable=True)(encoder_inputs)\n",
    "\n",
    "encoder_lstm1 = Bidirectional(LSTM(latent_dim, return_sequences=True,\n",
    "                                   return_state=True, dropout=0.4, recurrent_dropout=0.4))(enc_emb)\n",
    "# [0], encoder_lstm1[2], encoder_lstm1[4], encoder_lstm1[3], encoder_lstm1[5]\n",
    "encoder_output1, state_h1_forward, state_c1_forward, state_h1_backward, state_c1_backward = encoder_lstm1\n",
    "\n",
    "encoder_lstm2 = Bidirectional(LSTM(latent_dim, return_sequences=True,\n",
    "                                   return_state=True, dropout=0.4, recurrent_dropout=0.4))(encoder_output1)\n",
    "# [0], encoder_lstm2[2], encoder_lstm2[4], encoder_lstm2[3], encoder_lstm2[5]\n",
    "encoder_output2, state_h2_forward, state_c2_forward, state_h2_backward, state_c2_backward = encoder_lstm2\n",
    "\n",
    "encoder_lstm3 = Bidirectional(LSTM(latent_dim, return_state=True,\n",
    "                                   return_sequences=True, dropout=0.4, recurrent_dropout=0.4))(encoder_output2)\n",
    "# [0], encoder_lstm3[2], encoder_lstm3[4], encoder_lstm3[3], encoder_lstm3[5]\n",
    "encoder_outputs, state_h_forward, state_c_forward, state_h_backward, state_c_backward = encoder_lstm3\n",
    "state_h = Concatenate()([state_h_forward, state_h_backward])\n",
    "state_c = Concatenate()([state_c_forward, state_c_backward])\n",
    "\n",
    "decoder_inputs = Input(shape=(None,))\n",
    "\n",
    "dec_emb_layer = Embedding(y_voc, embedding_dim, trainable=True)\n",
    "dec_emb = dec_emb_layer(decoder_inputs)\n",
    "\n",
    "decoder_lstm = LSTM(latent_dim*2, return_sequences=True,\n",
    "                    return_state=True, dropout=0.4, recurrent_dropout=0.2)\n",
    "decoder_outputs, decoder_fwd_state, decoder_back_state = decoder_lstm(\n",
    "    dec_emb, initial_state=[state_h, state_c])\n",
    "\n",
    "attn_layer = AttentionLayer(name='attention_layer')\n",
    "attn_out, attn_states = attn_layer([encoder_outputs, decoder_outputs])\n",
    "\n",
    "decoder_concat_input = Concatenate(\n",
    "    axis=-1, name='concat_layer')([decoder_outputs, attn_out])\n",
    "\n",
    "decoder_dense = TimeDistributed(Dense(y_voc, activation='softmax'))\n",
    "decoder_outputs = decoder_dense(decoder_concat_input)\n",
    "\n",
    "model = Model([encoder_inputs, decoder_inputs], decoder_outputs)\n",
    "model.summary()"
   ]
  },
  {
   "cell_type": "markdown",
   "metadata": {
    "colab_type": "text",
    "id": "0ZVlfRuMUcoP"
   },
   "source": [
    "I am using sparse categorical cross-entropy as the loss function since it converts the integer sequence to a one-hot vector on the fly. This overcomes any memory issues."
   ]
  },
  {
   "cell_type": "code",
   "execution_count": 94,
   "metadata": {
    "ExecuteTime": {
     "end_time": "2020-12-27T07:56:27.315753Z",
     "start_time": "2020-12-27T07:56:27.300792Z"
    },
    "colab": {},
    "colab_type": "code",
    "id": "Lwfi1Fm8Fxiz"
   },
   "outputs": [],
   "source": [
    "model.compile(optimizer='rmsprop', loss='sparse_categorical_crossentropy')"
   ]
  },
  {
   "cell_type": "markdown",
   "metadata": {
    "colab_type": "text",
    "id": "p0ykDbxfUhyw"
   },
   "source": [
    "Early Stopping is used to stop training the neural network at the right time by monitoring a user-specified metric. Here, I am monitoring the validation loss (val_loss). Our model will stop training once the validation loss increases:"
   ]
  },
  {
   "cell_type": "code",
   "execution_count": 95,
   "metadata": {
    "ExecuteTime": {
     "end_time": "2020-12-27T07:56:38.112243Z",
     "start_time": "2020-12-27T07:56:38.097265Z"
    },
    "colab": {},
    "colab_type": "code",
    "id": "s-A3J92MUljB"
   },
   "outputs": [],
   "source": [
    "es = EarlyStopping(monitor='val_loss', mode='min', verbose=1, patience=2)"
   ]
  },
  {
   "cell_type": "markdown",
   "metadata": {
    "colab_type": "text",
    "id": "Mw6CVECaUq5b"
   },
   "source": [
    "We’ll train the model on a batch size of 128 and validate it on the holdout set (which is 10% of our dataset):"
   ]
  },
  {
   "cell_type": "code",
   "execution_count": 96,
   "metadata": {
    "ExecuteTime": {
     "end_time": "2020-12-27T16:15:50.947175Z",
     "start_time": "2020-12-27T07:56:38.113273Z"
    },
    "colab": {},
    "colab_type": "code",
    "id": "ETnPzA4OFxi3",
    "outputId": "477e374f-7cf2-4d60-f86e-2c49c9cebedb"
   },
   "outputs": [
    {
     "name": "stdout",
     "output_type": "stream",
     "text": [
      "Epoch 1/50\n",
      "1407/1407 [==============================] - 2066s 1s/step - loss: 2.2460 - val_loss: 2.0740\n",
      "Epoch 2/50\n",
      "1407/1407 [==============================] - 1992s 1s/step - loss: 1.9372 - val_loss: 1.8870\n",
      "Epoch 3/50\n",
      "1407/1407 [==============================] - 1993s 1s/step - loss: 1.8301 - val_loss: 1.8182\n",
      "Epoch 4/50\n",
      "1407/1407 [==============================] - 1987s 1s/step - loss: 1.7625 - val_loss: 1.7861\n",
      "Epoch 5/50\n",
      "1407/1407 [==============================] - 1987s 1s/step - loss: 1.7125 - val_loss: 1.7585\n",
      "Epoch 6/50\n",
      "1407/1407 [==============================] - 1988s 1s/step - loss: 1.6730 - val_loss: 1.7474\n",
      "Epoch 7/50\n",
      "1407/1407 [==============================] - 1993s 1s/step - loss: 1.6391 - val_loss: 1.7217\n",
      "Epoch 8/50\n",
      "1407/1407 [==============================] - 1988s 1s/step - loss: 1.6123 - val_loss: 1.7499\n",
      "Epoch 9/50\n",
      "1407/1407 [==============================] - 1985s 1s/step - loss: 1.5883 - val_loss: 1.7121\n",
      "Epoch 10/50\n",
      "1407/1407 [==============================] - 1987s 1s/step - loss: 1.5677 - val_loss: 1.7373\n",
      "Epoch 11/50\n",
      "1407/1407 [==============================] - 1989s 1s/step - loss: 1.5486 - val_loss: 1.7054\n",
      "Epoch 12/50\n",
      "1407/1407 [==============================] - 1987s 1s/step - loss: 1.5322 - val_loss: 1.6981\n",
      "Epoch 13/50\n",
      "1407/1407 [==============================] - 1992s 1s/step - loss: 1.5167 - val_loss: 1.6872\n",
      "Epoch 14/50\n",
      "1407/1407 [==============================] - 1989s 1s/step - loss: 1.5044 - val_loss: 1.7020\n",
      "Epoch 15/50\n",
      "1407/1407 [==============================] - 1989s 1s/step - loss: 1.4930 - val_loss: 1.6872\n",
      "Epoch 00015: early stopping\n"
     ]
    }
   ],
   "source": [
    "history = model.fit([x_tr, y_tr[:, :-1]], y_tr.reshape(y_tr.shape[0], y_tr.shape[1], 1)[:, 1:], epochs=50, callbacks=[es],\n",
    "                    batch_size=64, validation_data=([x_val, y_val[:, :-1]], y_val.reshape(y_val.shape[0], y_val.shape[1], 1)[:, 1:]))"
   ]
  },
  {
   "cell_type": "markdown",
   "metadata": {},
   "source": [
    "## Save the Model"
   ]
  },
  {
   "cell_type": "code",
   "execution_count": 97,
   "metadata": {
    "ExecuteTime": {
     "end_time": "2020-12-27T16:16:11.436023Z",
     "start_time": "2020-12-27T16:16:11.064008Z"
    }
   },
   "outputs": [],
   "source": [
    "model.save('model.h5')"
   ]
  },
  {
   "cell_type": "markdown",
   "metadata": {},
   "source": [
    "## Load the Model"
   ]
  },
  {
   "cell_type": "code",
   "execution_count": 98,
   "metadata": {
    "ExecuteTime": {
     "end_time": "2020-12-27T16:16:21.865057Z",
     "start_time": "2020-12-27T16:16:21.849969Z"
    }
   },
   "outputs": [],
   "source": [
    "# model = load_model('model.h5', custom_objects={'AttentionLayer': AttentionLayer})"
   ]
  },
  {
   "cell_type": "markdown",
   "metadata": {
    "colab_type": "text",
    "id": "0ezKYOp2UxG5"
   },
   "source": [
    "## Understanding the Diagnostic plot\n",
    "\n",
    "Now, we will plot a few diagnostic plots to understand the behavior of the model over time:"
   ]
  },
  {
   "cell_type": "code",
   "execution_count": 99,
   "metadata": {
    "ExecuteTime": {
     "end_time": "2020-12-27T16:16:31.281012Z",
     "start_time": "2020-12-27T16:16:31.111639Z"
    },
    "colab": {},
    "colab_type": "code",
    "id": "tDTNLAURFxjE",
    "outputId": "e2ea6e44-3931-4014-97a1-03fa2a441228"
   },
   "outputs": [
    {
     "data": {
      "image/png": "[encoded data removed]",
      "text/plain": [
       "<Figure size 432x288 with 1 Axes>"
      ]
     },
     "metadata": {
      "needs_background": "light"
     },
     "output_type": "display_data"
    }
   ],
   "source": [
    "plt.plot(history.history['loss'], label='train')\n",
    "plt.plot(history.history['val_loss'], label='test')\n",
    "plt.legend()\n",
    "plt.show()"
   ]
  },
  {
   "cell_type": "markdown",
   "metadata": {
    "colab_type": "text",
    "id": "HSyx-HvpUz2o"
   },
   "source": [
    "From the plot, we can infer that validation loss has increased after epoch 12 for 2 successive epochs. Hence, training is stopped at epoch 15.\n",
    "\n",
    "Next, let's build the dictionary to convert the index to word for target and source vocabulary:"
   ]
  },
  {
   "cell_type": "code",
   "execution_count": 100,
   "metadata": {
    "ExecuteTime": {
     "end_time": "2020-12-27T16:16:40.523006Z",
     "start_time": "2020-12-27T16:16:40.508404Z"
    },
    "colab": {},
    "colab_type": "code",
    "id": "sBX0zZnOFxjW"
   },
   "outputs": [],
   "source": [
    "reverse_target_word_index = y_tokenizer.index_word\n",
    "reverse_source_word_index = x_tokenizer.index_word\n",
    "target_word_index = y_tokenizer.word_index"
   ]
  },
  {
   "cell_type": "markdown",
   "metadata": {
    "colab_type": "text",
    "id": "eM_nU_VvFxjq"
   },
   "source": [
    "## Inference\n",
    "\n",
    "Set up the inference for the encoder and decoder:"
   ]
  },
  {
   "cell_type": "code",
   "execution_count": 101,
   "metadata": {
    "ExecuteTime": {
     "end_time": "2020-12-27T16:16:50.132255Z",
     "start_time": "2020-12-27T16:16:49.831345Z"
    },
    "colab": {},
    "colab_type": "code",
    "id": "9QkrNV-4Fxjt"
   },
   "outputs": [],
   "source": [
    "encoder_model = Model(inputs=encoder_inputs, outputs=[\n",
    "                      encoder_outputs, state_h, state_c])\n",
    "\n",
    "# Tensors to hold the states of previous timesteps\n",
    "decoder_state_input_h = Input(shape=(latent_dim*2,))\n",
    "decoder_state_input_c = Input(shape=(latent_dim*2,))\n",
    "decoder_hidden_state_input = Input(shape=(max_text_len, latent_dim*2))\n",
    "\n",
    "# Get the embeddings of the decoder sequence\n",
    "dec_emb2 = dec_emb_layer(decoder_inputs)\n",
    "\n",
    "# To predict the next word in the sequence, set the initial states to the states from the previous time step\n",
    "decoder_outputs2, state_h2, state_c2 = decoder_lstm(\n",
    "    dec_emb2, initial_state=[decoder_state_input_h, decoder_state_input_c])\n",
    "\n",
    "# Attention inference\n",
    "attn_out_inf, attn_states_inf = attn_layer(\n",
    "    [decoder_hidden_state_input, decoder_outputs2])\n",
    "decoder_inf_concat = Concatenate(\n",
    "    axis=-1, name='concat')([decoder_outputs2, attn_out_inf])\n",
    "\n",
    "decoder_outputs2 = decoder_dense(decoder_inf_concat)"
   ]
  },
  {
   "cell_type": "code",
   "execution_count": 102,
   "metadata": {
    "ExecuteTime": {
     "end_time": "2020-12-27T16:16:59.353641Z",
     "start_time": "2020-12-27T16:16:59.338681Z"
    },
    "colab": {},
    "colab_type": "code",
    "id": "9QkrNV-4Fxjt"
   },
   "outputs": [],
   "source": [
    "decoder_model = Model(\n",
    "    [decoder_inputs] + [decoder_hidden_state_input,\n",
    "                        decoder_state_input_h, decoder_state_input_c],\n",
    "    [decoder_outputs2] + [state_h2, state_c2])"
   ]
  },
  {
   "cell_type": "code",
   "execution_count": 103,
   "metadata": {
    "ExecuteTime": {
     "end_time": "2020-12-27T16:17:08.640035Z",
     "start_time": "2020-12-27T16:17:08.518272Z"
    }
   },
   "outputs": [],
   "source": [
    "encoder_model.save('encoder_model.h5')\n",
    "decoder_model.save('decoder_model.h5')"
   ]
  },
  {
   "cell_type": "code",
   "execution_count": 104,
   "metadata": {
    "ExecuteTime": {
     "end_time": "2020-12-27T16:17:17.957505Z",
     "start_time": "2020-12-27T16:17:17.943557Z"
    }
   },
   "outputs": [],
   "source": [
    "# encoder_model = load_model('encoder_model.h5')\n",
    "# decoder_model = load_model('decoder_model.h5', custom_objects={'AttentionLayer': AttentionLayer})"
   ]
  },
  {
   "cell_type": "markdown",
   "metadata": {
    "colab_type": "text",
    "id": "zOiyk4ToWe74"
   },
   "source": [
    "We are defining a function below which is the implementation of the inference process (which we covered [here](https://www.analyticsvidhya.com/blog/2019/06/comprehensive-guide-text-summarization-using-deep-learning-python/)):"
   ]
  },
  {
   "cell_type": "code",
   "execution_count": 105,
   "metadata": {
    "ExecuteTime": {
     "end_time": "2020-12-27T16:17:27.143647Z",
     "start_time": "2020-12-27T16:17:27.129033Z"
    }
   },
   "outputs": [],
   "source": [
    "def beam_search_decoder(data, k=3):\n",
    "    sequences = [[list(), 0.0]]\n",
    "\n",
    "    for row in data:\n",
    "        all_candidates = list()\n",
    "\n",
    "        for i in range(len(sequences)):\n",
    "            seq, score = sequences[i]\n",
    "\n",
    "            for j in range(len(row)):\n",
    "                candidate = [seq + [j], score - np.log(row[j])]\n",
    "                all_candidates.append(candidate)\n",
    "\n",
    "        ordered = sorted(all_candidates, key=lambda tup:tup[1])\n",
    "        sequences = ordered[:k]\n",
    "\n",
    "    return sequences"
   ]
  },
  {
   "cell_type": "code",
   "execution_count": 106,
   "metadata": {
    "ExecuteTime": {
     "end_time": "2020-12-27T16:17:36.348781Z",
     "start_time": "2020-12-27T16:17:36.319519Z"
    },
    "colab": {},
    "colab_type": "code",
    "id": "6f6TTFnBFxj6"
   },
   "outputs": [],
   "source": [
    "def decode_sequence(input_seq):\n",
    "    e_out, e_h, e_c = encoder_model.predict(input_seq)\n",
    "    target_seq = np.zeros((1, 1))\n",
    "    target_seq[0, 0] = target_word_index['sostok']\n",
    "    stop_condition = False\n",
    "    decoded_sentence = ''\n",
    "   \n",
    "    while not stop_condition:\n",
    "        output_tokens, h, c = decoder_model.predict(\n",
    "            [target_seq] + [e_out, e_h, e_c])\n",
    "        sampled_token_index = np.argmin(beam_search_decoder(output_tokens)[0][1])\n",
    "        sampled_token = reverse_target_word_index[sampled_token_index]\n",
    "\n",
    "        if(sampled_token != 'eostok'):\n",
    "            decoded_sentence += ' ' + sampled_token\n",
    "\n",
    "        if (sampled_token == 'eostok' or len(decoded_sentence.split()) >= (max_summary_len - 1)):\n",
    "            stop_condition = True\n",
    "\n",
    "        target_seq = np.zeros((1, 1))\n",
    "        target_seq[0, 0] = sampled_token_index\n",
    "        e_h, e_c = h, c\n",
    "\n",
    "    return decoded_sentence.strip()"
   ]
  },
  {
   "cell_type": "markdown",
   "metadata": {
    "colab_type": "text",
    "id": "6GuDf4TPWt6_"
   },
   "source": [
    "Let us define the functions to convert an integer sequence to a word sequence for summary as well as the reviews:"
   ]
  },
  {
   "cell_type": "code",
   "execution_count": 107,
   "metadata": {
    "ExecuteTime": {
     "end_time": "2020-12-27T16:17:45.485180Z",
     "start_time": "2020-12-27T16:17:45.470223Z"
    },
    "colab": {},
    "colab_type": "code",
    "id": "aAUntznIFxj9"
   },
   "outputs": [],
   "source": [
    "def seq2summary(input_seq):\n",
    "    newString = ''\n",
    "\n",
    "    for i in input_seq:\n",
    "        if((i != 0 and i != target_word_index['sostok']) and i != target_word_index['eostok']):\n",
    "            newString = newString + reverse_target_word_index[i] + ' '\n",
    "\n",
    "    return newString\n",
    "\n",
    "\n",
    "def seq2text(input_seq):\n",
    "    newString = ''\n",
    "\n",
    "    for i in input_seq:\n",
    "        if(i != 0):\n",
    "            newString = newString + reverse_source_word_index[i] + ' '\n",
    "\n",
    "    return newString"
   ]
  },
  {
   "cell_type": "markdown",
   "metadata": {},
   "source": [
    "Let's analyze our model using BLEU score and ROUGE score."
   ]
  },
  {
   "cell_type": "code",
   "execution_count": 108,
   "metadata": {
    "ExecuteTime": {
     "end_time": "2020-12-27T16:17:54.780404Z",
     "start_time": "2020-12-27T16:17:54.749414Z"
    }
   },
   "outputs": [],
   "source": [
    "analyser = SentimentIntensityAnalyzer()\n",
    "\n",
    "\n",
    "def sentiment_analyzer_scores(sentence):\n",
    "    score = analyser.polarity_scores(sentence)\n",
    "    return dict(list(score.items())[:-1])"
   ]
  },
  {
   "cell_type": "markdown",
   "metadata": {
    "colab_type": "text",
    "id": "9gM4ALyfWwA9"
   },
   "source": [
    "Here are a few summaries generated by the model:"
   ]
  },
  {
   "cell_type": "code",
   "execution_count": 109,
   "metadata": {
    "ExecuteTime": {
     "end_time": "2020-12-27T16:18:09.484066Z",
     "start_time": "2020-12-27T16:18:04.032163Z"
    },
    "colab": {},
    "colab_type": "code",
    "id": "BUtQmQTmFxkI",
    "outputId": "f407d9fc-e0cd-4082-98f5-bd1f562dc26f"
   },
   "outputs": [
    {
     "name": "stdout",
     "output_type": "stream",
     "text": [
      "Review: types cases fit tightly although colors great would better product made smaller fit phone better \n",
      "Original Summary: very loose fit but great color \n",
      "Predicted Summary: not as good as the picture\n",
      "Sentiment Score: {'neg': 0.325, 'neu': 0.675, 'pos': 0.0}\n",
      "\n",
      "Review: ordered phone son broke iphone want spend lot money one cheap would work verizon got phone yesterday white described listing black honestly care color set working great looks brand new even one scratch dent happy customer \n",
      "Original Summary: the one got was black not white but it works great \n",
      "Predicted Summary: great phone case for the new phone\n",
      "Sentiment Score: {'neg': 0.0, 'neu': 0.594, 'pos': 0.406}\n",
      "\n",
      "Review: dilemma put high quality leather case metal fittings snaps plastic something ultimately fail although case metal snap fittings hold flap phone fitting flap held place leather leather gave way one day way get back case months guess could say lasted others still waiting case built last \n",
      "Original Summary: not sure what people are thinking \n",
      "Predicted Summary: not what thought it would be\n",
      "Sentiment Score: {'neg': 0.0, 'neu': 1.0, 'pos': 0.0}\n",
      "\n",
      "Review: love convenience charger phone dying want plug wall far couch plug charger \n",
      "Original Summary: love the convenience of having charger \n",
      "Predicted Summary: love this charger for my phone\n",
      "Sentiment Score: {'neg': 0.0, 'neu': 0.543, 'pos': 0.457}\n",
      "\n",
      "Review: wife managed run dead phone nearly dead ipad back almost fully charged one sitting well played anker \n",
      "Original Summary: kept two devices going in pinch \n",
      "Predicted Summary: my wife uses this for her phone and she\n",
      "Sentiment Score: {'neg': 0.0, 'neu': 1.0, 'pos': 0.0}\n",
      "\n"
     ]
    }
   ],
   "source": [
    "for i in range(5):\n",
    "    print('Review:', seq2text(x_tr[i]))\n",
    "    print('Original Summary:', seq2summary(y_tr[i]))\n",
    "    print('Predicted Summary:', decode_sequence(\n",
    "        x_tr[i].reshape(1, max_text_len)))\n",
    "    print('Sentiment Score:', sentiment_analyzer_scores(decode_sequence(\n",
    "        x_tr[i].reshape(1, max_text_len))))\n",
    "    print()"
   ]
  },
  {
   "cell_type": "markdown",
   "metadata": {},
   "source": [
    "## Making prediction"
   ]
  },
  {
   "cell_type": "code",
   "execution_count": 110,
   "metadata": {
    "ExecuteTime": {
     "end_time": "2020-12-27T16:20:01.783747Z",
     "start_time": "2020-12-27T16:20:01.770782Z"
    }
   },
   "outputs": [],
   "source": [
    "test_inp = ['Screen Size is Small but the Camera Quality is Excellent.',\n",
    "            'Packaging was bad... The phone is small and is not working. Bad choice!!!',\n",
    "            'The phone is great and amazingly fast. The processor doesn\\'t gets heated up because of the liquid cool technology. Five stars.',\n",
    "            'Don\\'t buy it. It\\'s a scam. They are trolling people for money. Apple has always been like this. No charger.']\n",
    "\n",
    "test_inp_seq = x_tokenizer.texts_to_sequences(test_inp)\n",
    "test_inp_seq = pad_sequences(test_inp_seq, maxlen=max_text_len, padding='post')"
   ]
  },
  {
   "cell_type": "code",
   "execution_count": 111,
   "metadata": {
    "ExecuteTime": {
     "end_time": "2020-12-27T16:20:13.734997Z",
     "start_time": "2020-12-27T16:20:11.541181Z"
    },
    "scrolled": false
   },
   "outputs": [
    {
     "name": "stdout",
     "output_type": "stream",
     "text": [
      "Actual Review: Screen Size is Small but the Camera Quality is Excellent.\n",
      "Cleaned Review: screen size small camera quality excellent \n",
      "Predicted summary: small size and small enough for the small size\n",
      "Sentiment Score: {'neg': 0.0, 'neu': 0.641, 'pos': 0.359}\n",
      "\n",
      "Actual Review: Packaging was bad... The phone is small and is not working. Bad choice!!!\n",
      "Cleaned Review: packaging bad phone small working bad choice \n",
      "Predicted summary: the phone is bad the bad bad bad\n",
      "Sentiment Score: {'neg': 0.24, 'neu': 0.604, 'pos': 0.156}\n",
      "\n",
      "Actual Review: The phone is great and amazingly fast. The processor doesn't gets heated up because of the liquid cool technology. Five stars.\n",
      "Cleaned Review: phone great amazingly fast processor gets heated liquid cool technology five stars \n",
      "Predicted summary: the phone is great fast and fast\n",
      "Sentiment Score: {'neg': 0.0, 'neu': 0.748, 'pos': 0.252}\n",
      "\n",
      "Actual Review: Don't buy it. It's a scam. They are trolling people for money. Apple has always been like this. No charger.\n",
      "Cleaned Review: buy scam people money apple always like charger \n",
      "Predicted summary: do not buy this if you want to replace your apple apple iphone\n",
      "Sentiment Score: {'neg': 0.241, 'neu': 0.661, 'pos': 0.097}\n",
      "\n"
     ]
    }
   ],
   "source": [
    "for i in range(len(test_inp_seq)):\n",
    "    print('Actual Review:', test_inp[i])\n",
    "    print('Cleaned Review:', seq2text(test_inp_seq[i]))\n",
    "    print('Predicted summary:', decode_sequence(\n",
    "        test_inp_seq[i].reshape(1, max_text_len)).strip())\n",
    "    print('Sentiment Score:', sentiment_analyzer_scores(test_inp[i]))\n",
    "    print()"
   ]
  },
  {
   "cell_type": "code",
   "execution_count": 112,
   "metadata": {
    "ExecuteTime": {
     "end_time": "2020-12-27T16:20:23.308293Z",
     "start_time": "2020-12-27T16:20:23.294168Z"
    }
   },
   "outputs": [],
   "source": [
    "from difflib import SequenceMatcher\n",
    "\n",
    "def match(a, b):\n",
    "    return SequenceMatcher(None, a, b).ratio()"
   ]
  },
  {
   "cell_type": "code",
   "execution_count": 113,
   "metadata": {
    "ExecuteTime": {
     "end_time": "2020-12-27T16:20:34.715494Z",
     "start_time": "2020-12-27T16:20:32.571352Z"
    }
   },
   "outputs": [],
   "source": [
    "decoded_sentences = []\n",
    "\n",
    "for i in range(len(test_inp_seq)):\n",
    "    decoded_sentences.append({decode_sequence(test_inp_seq[i].reshape(\n",
    "        1, max_text_len)).strip(): sentiment_analyzer_scores(test_inp[i])})"
   ]
  },
  {
   "cell_type": "code",
   "execution_count": 114,
   "metadata": {
    "ExecuteTime": {
     "end_time": "2020-12-27T16:20:43.863827Z",
     "start_time": "2020-12-27T16:20:43.849844Z"
    }
   },
   "outputs": [],
   "source": [
    "pos_abstract_summary, neg_abstract_summary = [], []\n",
    "\n",
    "for i in range(len(decoded_sentences)):\n",
    "    for j in range(len(decoded_sentences)):\n",
    "        if not decoded_sentences[i] == decoded_sentences[j]:\n",
    "            if match([*decoded_sentences[i].keys()][0], [*decoded_sentences[j].keys()][0]) < 0.5:\n",
    "                if [*decoded_sentences[i].values()][0]['neg'] < [*decoded_sentences[i].values()][0]['pos']:\n",
    "                    pos_abstract_summary.append([*decoded_sentences[i].keys()][0])\n",
    "                else:\n",
    "                    neg_abstract_summary.append([*decoded_sentences[i].keys()][0])\n",
    "                break"
   ]
  },
  {
   "cell_type": "code",
   "execution_count": 115,
   "metadata": {
    "ExecuteTime": {
     "end_time": "2020-12-27T16:20:53.132915Z",
     "start_time": "2020-12-27T16:20:53.117922Z"
    }
   },
   "outputs": [
    {
     "name": "stdout",
     "output_type": "stream",
     "text": [
      "Small size and small enough for the small size. The phone is great fast and fast\n",
      "The phone is bad the bad bad bad. Do not buy this if you want to replace your apple apple iphone\n"
     ]
    }
   ],
   "source": [
    "print('. '.join([i.capitalize() for i in pos_abstract_summary]))\n",
    "print('. '.join([i.capitalize() for i in neg_abstract_summary]))"
   ]
  },
  {
   "cell_type": "markdown",
   "metadata": {
    "colab_type": "text",
    "id": "OTkaYNjHW4lC"
   },
   "source": [
    "Even though the actual summary and the summary generated by our model do not match in terms of words, both of them are conveying the same meaning. Our model is able to generate a legible summary based on the context present in the text.\n",
    "\n",
    "## Future work\n",
    "\n",
    "- Implement **Pointer-Generator Networks** and **Copy and Coverage Mechanisms** for better summary generation.\n",
    "- Implement **BERT** instead of **Bidirectional LSTM**.\n",
    "- Implement **Teacher Forcing strategy** while training **RNN**."
   ]
  }
 ],
 "metadata": {
  "colab": {
   "collapsed_sections": [],
   "name": "How to build own text summarizer using deep learning.ipynb",
   "provenance": [],
   "version": "0.3.2"
  },
  "kernelspec": {
   "display_name": "Python 3",
   "language": "python",
   "name": "python3"
  },
  "language_info": {
   "codemirror_mode": {
    "name": "ipython",
    "version": 3
   },
   "file_extension": ".py",
   "mimetype": "text/x-python",
   "name": "python",
   "nbconvert_exporter": "python",
   "pygments_lexer": "ipython3",
   "version": "3.8.3"
  },
  "latex_envs": {
   "LaTeX_envs_menu_present": true,
   "autoclose": false,
   "autocomplete": true,
   "bibliofile": "biblio.bib",
   "cite_by": "apalike",
   "current_citInitial": 1,
   "eqLabelWithNumbers": true,
   "eqNumInitial": 1,
   "hotkeys": {
    "equation": "Ctrl-E",
    "itemize": "Ctrl-I"
   },
   "labels_anchors": false,
   "latex_user_defs": false,
   "report_style_numbering": false,
   "user_envs_cfg": false
  },
  "toc": {
   "base_numbering": 1,
   "nav_menu": {},
   "number_sections": false,
   "sideBar": true,
   "skip_h1_title": false,
   "title_cell": "Table of Contents",
   "title_sidebar": "Contents",
   "toc_cell": false,
   "toc_position": {},
   "toc_section_display": true,
   "toc_window_display": false
  },
  "varInspector": {
   "cols": {
    "lenName": 16,
    "lenType": 16,
    "lenVar": 40
   },
   "kernels_config": {
    "python": {
     "delete_cmd_postfix": "",
     "delete_cmd_prefix": "del ",
     "library": "var_list.py",
     "varRefreshCmd": "print(var_dic_list())"
    },
    "r": {
     "delete_cmd_postfix": ") ",
     "delete_cmd_prefix": "rm(",
     "library": "var_list.r",
     "varRefreshCmd": "cat(var_dic_list()) "
    }
   },
   "types_to_exclude": [
    "module",
    "function",
    "builtin_function_or_method",
    "instance",
    "_Feature"
   ],
   "window_display": false
  }
 },
 "nbformat": 4,
 "nbformat_minor": 1
}
